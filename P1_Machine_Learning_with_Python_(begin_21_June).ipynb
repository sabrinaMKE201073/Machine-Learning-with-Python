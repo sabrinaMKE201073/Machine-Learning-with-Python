{
  "nbformat": 4,
  "nbformat_minor": 0,
  "metadata": {
    "colab": {
      "provenance": [],
      "authorship_tag": "ABX9TyPFFik1ftwRUY2e7/JYtQu1",
      "include_colab_link": true
    },
    "kernelspec": {
      "name": "python3",
      "display_name": "Python 3"
    },
    "language_info": {
      "name": "python"
    }
  },
  "cells": [
    {
      "cell_type": "markdown",
      "metadata": {
        "id": "view-in-github",
        "colab_type": "text"
      },
      "source": [
        "<a href=\"https://colab.research.google.com/github/sabrinaMKE201073/Machine-Learning-with-Python/blob/main/P1_Machine_Learning_with_Python_(begin_21_June).ipynb\" target=\"_parent\"><img src=\"https://colab.research.google.com/assets/colab-badge.svg\" alt=\"Open In Colab\"/></a>"
      ]
    },
    {
      "cell_type": "markdown",
      "source": [
        "<h1><b>Module 1: Machine Learning</h1>\n"
      ],
      "metadata": {
        "id": "JBKQaj8EDJKR"
      }
    },
    {
      "cell_type": "markdown",
      "source": [
        "<p align=\"center\">\n",
        "  <img src=\"https://github.com/sabrinaMKE201073/test-html-coding/assets/95947484/f89df2ad-c0e6-4cbe-a88e-abc796125235\">\n",
        "</p>\n"
      ],
      "metadata": {
        "id": "cniqz3nhJO7h"
      }
    },
    {
      "cell_type": "markdown",
      "source": [
        "with Machine Learning,\n",
        "- For example, cancer detection can be easier (can classify wheter the cancer is Benign or Malignant type)\n",
        "- Note:\n",
        "  - `A tumor can be malignant(cancerous) or Benign (not cancerous)`\n",
        "  - Malignant tumor can be spread around the body, diagnosing it early might be a key to a patient's survival."
      ],
      "metadata": {
        "id": "_hrhVhGuKK0r"
      }
    },
    {
      "cell_type": "markdown",
      "source": [
        "<p align=\"center\">\n",
        "  <img src=\"https://github.com/sabrinaMKE201073/test-html-coding/assets/95947484/acf467ee-b4b3-4086-aa25-7c96047b1542\">\n",
        "</p>"
      ],
      "metadata": {
        "id": "e4bKl4hVShOt"
      }
    },
    {
      "cell_type": "markdown",
      "source": [
        "- Above is an example overview of machine learning for `cancer detection classification`.\n",
        "- This machine learning model can do a doctor's task or at least help the doctor make the process faster."
      ],
      "metadata": {
        "id": "or_jZ-aXSxsF"
      }
    },
    {
      "cell_type": "markdown",
      "source": [
        "#What is Machine Learning?\n",
        "\n",
        "- Machine learning is the subfield of computer science that gives computers the ability\n",
        "to learn without being explicitly programmed\n",
        "\n",
        "- Traditionally, we had to write down some rules or methods in order to get computers to be intelligent and detect the animals as per below.\n",
        "  - But this `traditional method was a failure`, because it needed a lot of rules, highly dependent on the current dataset,and not generalized enough to detect out-of-sample cases.\n",
        "\n",
        "\n",
        "\n",
        "\n",
        "\n"
      ],
      "metadata": {
        "id": "wDLet355TUWY"
      }
    },
    {
      "cell_type": "markdown",
      "source": [
        "Before:\n",
        "<p align=\"center\">\n",
        "  <img src=\"https://github.com/sabrinaMKE201073/test-html-coding/assets/95947484/beb4b362-84f5-4f68-b3f2-44e8d1bb1913\">\n",
        "</p>\n",
        "\n",
        "Now:\n",
        "<p align=\"center\">\n",
        "  <img src=\"https://github.com/sabrinaMKE201073/test-html-coding/assets/95947484/68af3c00-7608-4083-975b-e0b8e9da95ce\">\n",
        "</p>"
      ],
      "metadata": {
        "id": "UZrUFVPRXa7i"
      }
    },
    {
      "cell_type": "markdown",
      "source": [
        "\n",
        "```\n",
        "## Machine learning algorithms\n",
        "- inspired by the human learning process, iteratively\n",
        "- learn from data, and allow computers to find hidden insights.\n",
        "- These models help us in a variety of tasks, such as object recognition, summarization,\n",
        "recommendation, and so on\n",
        "\n",
        "```\n"
      ],
      "metadata": {
        "id": "VrBhff6-XzCZ"
      }
    },
    {
      "cell_type": "markdown",
      "source": [
        "<p align=\"center\">\n",
        "  <img src=\"https://github.com/sabrinaMKE201073/test-html-coding/assets/95947484/f6af8363-f882-43fc-9bda-b83e61b8718e\">\n",
        "</p>\n"
      ],
      "metadata": {
        "id": "0ZBM9Ix2Y-Pe"
      }
    },
    {
      "cell_type": "markdown",
      "source": [
        "#Major Machine Learning techniques:\n",
        "- `Regression/Estimation`\n",
        "  - Predict continuous value (Eg: predict price of a house, estimate C02 emmission from a car's engine)\n",
        "- `Classification`\n",
        "  - Used for predict class/category of a case (Eg: if a cell is benign/malignant)\n",
        "- `Clustering`\n",
        "  - Eg: Find similar patients or customer segmentation in banking field\n",
        "- `Association`\n",
        "  - Find item or event that often co-occur (Eg: grocery items that usually bought together by customer)\n",
        "- `Anomaly detection`\n",
        "  - discover abnormal or unusual cases (Eg: Credit card fraud detection)\n",
        "- `Sequence Mining`\n",
        "  - used for predict next event (Eg: click-stream websites)\n",
        "- `Dimension reduction`\n",
        "  - used to reduce size of data\n",
        "- `Recommendation systems`\n",
        "  - recommending items (Eg: Movies, Books)\n",
        "\n"
      ],
      "metadata": {
        "id": "GZlIXEaodHIa"
      }
    },
    {
      "cell_type": "markdown",
      "source": [
        "<p align=\"center\">\n",
        "  <img src=\"https://github.com/sabrinaMKE201073/test-html-coding/assets/95947484/75689a8d-0f46-4163-9da5-4a39e302c55a\">\n",
        "</p>"
      ],
      "metadata": {
        "id": "P8X07DHyl-kE"
      }
    },
    {
      "cell_type": "markdown",
      "source": [
        "# Different betweent AI, ML and DL\n",
        "\n",
        "- `AI `\n",
        "  - tries to make computers intelligent (mimic the cognitive functions of human)\n",
        "\n",
        "- `ML`\n",
        "  - branch of AI that covers the statistical part of artificial intelligence\n",
        "   - It teaches the computer to solve problems by looking at hundreds or thousands of examples, learning from them, and then using that experience to solve the same problem in new situations.\n",
        "\n",
        "- `DL`\n",
        "  - a very special field of Machine Learning where computers can actually learn and make intelligent decisions on their own.\n",
        "  - involves a deeper level of automation compared to ML\n"
      ],
      "metadata": {
        "id": "wb97pbpFmO1h"
      }
    },
    {
      "cell_type": "markdown",
      "source": [
        "<h1><B>PYTHON FOR MACHINE LEARNING</h1>\n",
        "\n"
      ],
      "metadata": {
        "id": "Tv0EXOssnwqR"
      }
    },
    {
      "cell_type": "markdown",
      "source": [
        "**Python Libraries:**\n",
        "- Pandas\n",
        "- Numpy\n",
        "- Scipy\n",
        "- Matplotlib\n",
        "- `Scikit-learn` (Free ML library for Python programming language)\n",
        "\n",
        " - it has most of classification, regression & clustering algorithms\n",
        " - it's designed to work with Python numerical and scientific libraries (Numpy & Scipy)\n",
        " - very good documentation.\n",
        " - most of task of ML has already been implemented in Scikit-learn libraries (including data pre-processing, feature selection, feature extraction, train/test splitting, fitting models, tuning parameters, prediction, evaluation & exporting model)\n",
        "\n",
        "\n",
        "<p align=\"center\">\n",
        "  <img src=\"https://github.com/sabrinaMKE201073/test-html-coding/assets/95947484/286fbccd-8a8e-4671-aa32-e6747aa884fc\n",
        "\">\n",
        "</p>\n",
        "\n",
        "\n",
        "<p align=\"center\">\n",
        "  <img src=\"https://github.com/sabrinaMKE201073/test-html-coding/assets/95947484/56ed1209-7e48-49e7-8c6f-59b873441434\n",
        "\">\n",
        "</p>"
      ],
      "metadata": {
        "id": "_BY4uzfbshGs"
      }
    },
    {
      "cell_type": "markdown",
      "source": [
        "<h1><B>Supervised VS Unsupervised algorithm</h1>\n",
        "\n",
        "**1) Supervised ML**\n",
        "\n",
        "<p align=\"center\">\n",
        "  <img src=\"https://github.com/sabrinaMKE201073/test-html-coding/assets/95947484/734fa353-c33c-4833-bca5-3fe74dd681c5\n",
        "\">\n",
        "</p>\n",
        "\n",
        "<p align=\"center\">\n",
        "  <img src=\"https://github.com/sabrinaMKE201073/test-html-coding/assets/95947484/c106ad7c-2e3d-44c2-97fb-0bf4a6be8570\n",
        "\">\n",
        "</p>\n",
        "\n",
        "<p align=\"center\">\n",
        "  <img src=\"https://github.com/sabrinaMKE201073/test-html-coding/assets/95947484/34c90f41-824f-4049-aad7-925404a655e6\n",
        "\">\n",
        "</p>\n",
        "\n"
      ],
      "metadata": {
        "id": "FmvFhXvOxjLe"
      }
    },
    {
      "cell_type": "markdown",
      "source": [
        "**2) Unsupervised Learning**\n",
        "\n",
        "<p align=\"center\">\n",
        "  <img src=\"https://github.com/sabrinaMKE201073/test-html-coding/assets/95947484/07c52ad2-7a38-4f9a-83ab-de32695a622d\n",
        "\">\n",
        "</p>\n",
        "\n",
        "\n",
        "<p align=\"center\">\n",
        "  <img src=\"https://github.com/sabrinaMKE201073/test-html-coding/assets/95947484/3f3af621-69f0-4705-b73f-8a9d80fb9f37\n",
        "\">\n",
        "</p>\n",
        "\n",
        "\n",
        "<p align=\"center\">\n",
        "  <img src=\"https://github.com/sabrinaMKE201073/test-html-coding/assets/95947484/8b64b7da-f180-4de0-bf2a-9273462b9d03\n",
        "\">\n",
        "</p>\n",
        "\n",
        "\n"
      ],
      "metadata": {
        "id": "manwzEZnz41t"
      }
    }
  ]
}